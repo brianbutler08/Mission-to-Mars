{
 "cells": [
  {
   "cell_type": "code",
   "execution_count": 1,
   "id": "4de64e53",
   "metadata": {},
   "outputs": [],
   "source": [
    "# Import Splinter and BeautifulSoup\n",
    "\n",
    "from splinter import Browser\n",
    "from bs4 import BeautifulSoup as soup\n",
    "from webdriver_manager.chrome import ChromeDriverManager\n",
    "import pandas as pd"
   ]
  },
  {
   "cell_type": "code",
   "execution_count": 2,
   "id": "aea9e028",
   "metadata": {},
   "outputs": [],
   "source": [
    "# set up the executable path\n",
    "\n",
    "executable_path = {'executable_path': ChromeDriverManager().install()}\n",
    "browser = Browser('chrome', **executable_path, headless=False)"
   ]
  },
  {
   "cell_type": "code",
   "execution_count": 3,
   "id": "6fe0f45b",
   "metadata": {},
   "outputs": [
    {
     "data": {
      "text/plain": [
       "True"
      ]
     },
     "execution_count": 3,
     "metadata": {},
     "output_type": "execute_result"
    }
   ],
   "source": [
    "# assign the url and instruct the browser to visit\n",
    "\n",
    "# Visit the mars nasa news site\n",
    "url = 'https://redplanetscience.com'\n",
    "browser.visit(url)\n",
    "\n",
    "# we're searching for elements with a specific combination of tag (div) and attribute (list_text)\n",
    "# Optional delay for loading the page - wait time of 1 second\n",
    "browser.is_element_present_by_css('div.list_text', wait_time=1)"
   ]
  },
  {
   "cell_type": "code",
   "execution_count": 4,
   "id": "175da61a",
   "metadata": {},
   "outputs": [],
   "source": [
    "# set up the html parser\n",
    "\n",
    "html = browser.html\n",
    "news_soup = soup(html, 'html.parser')\n",
    "slide_elem = news_soup.select_one('div.list_text')"
   ]
  },
  {
   "cell_type": "code",
   "execution_count": 5,
   "id": "efcdcd7f",
   "metadata": {},
   "outputs": [],
   "source": [
    "# Notice how we've assigned slide_elem as the variable to look for the <div /> tag and its descendent \n",
    "# (the other tags within the <div /> element)? This is our parent element. This means that this element holds all \n",
    "# of the other elements within it, and we'll reference it when we want to filter search results even further. \n",
    "# The . is used for selecting classes, such as list_text, so the code 'div.list_text' pinpoints the <div /> tag \n",
    "# with the class of list_text. CSS works from right to left, such as returning the last item on the list instead \n",
    "# of the first. Because of this, when using select_one, the first matching element returned will be a <li /> element \n",
    "# with a class of slide and all nested elements within it."
   ]
  },
  {
   "cell_type": "code",
   "execution_count": 6,
   "id": "9b8ddd9e",
   "metadata": {},
   "outputs": [
    {
     "data": {
      "text/plain": [
       "<div class=\"content_title\">NASA Readies Perseverance Mars Rover's Earthly Twin </div>"
      ]
     },
     "execution_count": 6,
     "metadata": {},
     "output_type": "execute_result"
    }
   ],
   "source": [
    "slide_elem.find('div', class_='content_title')"
   ]
  },
  {
   "cell_type": "code",
   "execution_count": 7,
   "id": "c04db994",
   "metadata": {},
   "outputs": [],
   "source": [
    "# In this line of code, we chained .find onto our previously assigned variable, slide_elem. When we do this, we're \n",
    "# saying, \"This variable holds a ton of information, so look inside of that information to find this specific data.\" \n",
    "# The data we're looking for is the content title, which we've specified by saying, \"The specific data is in a \n",
    "# <div /> with a class of 'content_title'.\"\n",
    "\n",
    "# The output should be the HTML containing the content title and anything else nested inside of that <div />."
   ]
  },
  {
   "cell_type": "code",
   "execution_count": 8,
   "id": "ef86d1d2",
   "metadata": {},
   "outputs": [
    {
     "data": {
      "text/plain": [
       "\"NASA Readies Perseverance Mars Rover's Earthly Twin \""
      ]
     },
     "execution_count": 8,
     "metadata": {},
     "output_type": "execute_result"
    }
   ],
   "source": [
    "# need to just get the title though, minus the html language\n",
    "\n",
    "# Use the parent element to find the first `a` tag and save it as `news_title`\n",
    "news_title = slide_elem.find('div', class_='content_title').get_text()\n",
    "news_title"
   ]
  },
  {
   "cell_type": "code",
   "execution_count": 9,
   "id": "d4605888",
   "metadata": {},
   "outputs": [],
   "source": [
    "# We've added something new to our .find() method here: .get_text(). When this new method is chained onto .find(), \n",
    "# only the text of the element is returned. The code above, for example, would return only the title of the news \n",
    "# article and not any of the HTML tags or elements."
   ]
  },
  {
   "cell_type": "code",
   "execution_count": 10,
   "id": "06de10e2",
   "metadata": {},
   "outputs": [],
   "source": [
    "# IMPORTANT\n",
    "# There are two methods used to find tags and attributes with BeautifulSoup:\n",
    "# .find() is used when we want only the first class and attribute we've specified.\n",
    "# .find_all() is used when we want to retrieve all of the tags and attributes.\n",
    "#For example, if we were to use .find_all() instead of .find() when pulling the summary, we would retrieve all of \n",
    "#the summaries on the page instead of just the first one."
   ]
  },
  {
   "cell_type": "code",
   "execution_count": 11,
   "id": "c5eabb9e",
   "metadata": {},
   "outputs": [
    {
     "data": {
      "text/plain": [
       "\"Did you know NASA's next Mars rover has a nearly identical sibling on Earth for testing? Even better, it's about to roll for the first time through a replica Martian landscape.\""
      ]
     },
     "execution_count": 11,
     "metadata": {},
     "output_type": "execute_result"
    }
   ],
   "source": [
    "# get the text from the shot article summary\n",
    "# Use the parent element to find the paragraph text\n",
    "\n",
    "news_p = slide_elem.find('div', class_='article_teaser_body').get_text()\n",
    "news_p"
   ]
  },
  {
   "cell_type": "code",
   "execution_count": 12,
   "id": "fe758001",
   "metadata": {},
   "outputs": [],
   "source": [
    "# 10.3.4 scraping full size image"
   ]
  },
  {
   "cell_type": "markdown",
   "id": "6c22ea4c",
   "metadata": {},
   "source": [
    "### Featured Images"
   ]
  },
  {
   "cell_type": "code",
   "execution_count": 13,
   "id": "acf38824",
   "metadata": {},
   "outputs": [],
   "source": [
    "# Visit URL\n",
    "url = 'https://spaceimages-mars.com'\n",
    "browser.visit(url)"
   ]
  },
  {
   "cell_type": "code",
   "execution_count": 14,
   "id": "87e37fb0",
   "metadata": {},
   "outputs": [],
   "source": [
    "# Find and click the full image button\n",
    "# [1] indicates that we want the second button (FULL IMAGE)\n",
    "full_image_elem = browser.find_by_tag('button')[1]\n",
    "full_image_elem.click()"
   ]
  },
  {
   "cell_type": "code",
   "execution_count": 15,
   "id": "b9130ec1",
   "metadata": {},
   "outputs": [],
   "source": [
    "# Parse the resulting html with soup\n",
    "# With the new page loaded onto our automated browser, it needs to be parsed so we can continue and scrape the \n",
    "# full-size image URL. \n",
    "html = browser.html\n",
    "img_soup = soup(html, 'html.parser')"
   ]
  },
  {
   "cell_type": "code",
   "execution_count": 16,
   "id": "68ae49a6",
   "metadata": {},
   "outputs": [
    {
     "data": {
      "text/plain": [
       "'image/featured/mars2.jpg'"
      ]
     },
     "execution_count": 16,
     "metadata": {},
     "output_type": "execute_result"
    }
   ],
   "source": [
    "# Find the relative image url\n",
    "img_url_rel = img_soup.find('img', class_='fancybox-image').get('src')\n",
    "img_url_rel"
   ]
  },
  {
   "cell_type": "code",
   "execution_count": 17,
   "id": "8e3f2be7",
   "metadata": {},
   "outputs": [],
   "source": [
    "# SRC - It's important to note that the value of the src will be different every time the page is updated, so we can't \n",
    "# simply record the current value—we would only pull that image each time the code is executed, instead of the \n",
    "#most recent one."
   ]
  },
  {
   "cell_type": "code",
   "execution_count": 18,
   "id": "bc6fd1f8",
   "metadata": {},
   "outputs": [],
   "source": [
    "# 1) An img tag is nested within this HTML, so we've included it.\n",
    "# 2) .get('src') pulls the link to the image.\n",
    "# What we've done here is tell BeautifulSoup to look inside the <img /> tag for an image with a class of \n",
    "#fancybox-image."
   ]
  },
  {
   "cell_type": "code",
   "execution_count": 19,
   "id": "b086311f",
   "metadata": {},
   "outputs": [
    {
     "data": {
      "text/plain": [
       "'https://spaceimages-mars.com/image/featured/mars2.jpg'"
      ]
     },
     "execution_count": 19,
     "metadata": {},
     "output_type": "execute_result"
    }
   ],
   "source": [
    "# the image link is only partial, need to make it complete\n",
    "# Use the base URL to create an absolute URL\n",
    "img_url = f'https://spaceimages-mars.com/{img_url_rel}'\n",
    "img_url"
   ]
  },
  {
   "cell_type": "code",
   "execution_count": 20,
   "id": "b0515fa3",
   "metadata": {},
   "outputs": [
    {
     "data": {
      "text/html": [
       "<div>\n",
       "<style scoped>\n",
       "    .dataframe tbody tr th:only-of-type {\n",
       "        vertical-align: middle;\n",
       "    }\n",
       "\n",
       "    .dataframe tbody tr th {\n",
       "        vertical-align: top;\n",
       "    }\n",
       "\n",
       "    .dataframe thead th {\n",
       "        text-align: right;\n",
       "    }\n",
       "</style>\n",
       "<table border=\"1\" class=\"dataframe\">\n",
       "  <thead>\n",
       "    <tr style=\"text-align: right;\">\n",
       "      <th></th>\n",
       "      <th>Mars</th>\n",
       "      <th>Earth</th>\n",
       "    </tr>\n",
       "    <tr>\n",
       "      <th>description</th>\n",
       "      <th></th>\n",
       "      <th></th>\n",
       "    </tr>\n",
       "  </thead>\n",
       "  <tbody>\n",
       "    <tr>\n",
       "      <th>Mars - Earth Comparison</th>\n",
       "      <td>Mars</td>\n",
       "      <td>Earth</td>\n",
       "    </tr>\n",
       "    <tr>\n",
       "      <th>Diameter:</th>\n",
       "      <td>6,779 km</td>\n",
       "      <td>12,742 km</td>\n",
       "    </tr>\n",
       "    <tr>\n",
       "      <th>Mass:</th>\n",
       "      <td>6.39 × 10^23 kg</td>\n",
       "      <td>5.97 × 10^24 kg</td>\n",
       "    </tr>\n",
       "    <tr>\n",
       "      <th>Moons:</th>\n",
       "      <td>2</td>\n",
       "      <td>1</td>\n",
       "    </tr>\n",
       "    <tr>\n",
       "      <th>Distance from Sun:</th>\n",
       "      <td>227,943,824 km</td>\n",
       "      <td>149,598,262 km</td>\n",
       "    </tr>\n",
       "    <tr>\n",
       "      <th>Length of Year:</th>\n",
       "      <td>687 Earth days</td>\n",
       "      <td>365.24 days</td>\n",
       "    </tr>\n",
       "    <tr>\n",
       "      <th>Temperature:</th>\n",
       "      <td>-87 to -5 °C</td>\n",
       "      <td>-88 to 58°C</td>\n",
       "    </tr>\n",
       "  </tbody>\n",
       "</table>\n",
       "</div>"
      ],
      "text/plain": [
       "                                    Mars            Earth\n",
       "description                                              \n",
       "Mars - Earth Comparison             Mars            Earth\n",
       "Diameter:                       6,779 km        12,742 km\n",
       "Mass:                    6.39 × 10^23 kg  5.97 × 10^24 kg\n",
       "Moons:                                 2                1\n",
       "Distance from Sun:        227,943,824 km   149,598,262 km\n",
       "Length of Year:           687 Earth days      365.24 days\n",
       "Temperature:                -87 to -5 °C      -88 to 58°C"
      ]
     },
     "execution_count": 20,
     "metadata": {},
     "output_type": "execute_result"
    }
   ],
   "source": [
    "# scraping an entire table with read.html()\n",
    "df = pd.read_html('https://galaxyfacts-mars.com')[0]\n",
    "df.columns=['description', 'Mars', 'Earth']\n",
    "df.set_index('description', inplace=True)\n",
    "df"
   ]
  },
  {
   "cell_type": "code",
   "execution_count": 21,
   "id": "d8876543",
   "metadata": {},
   "outputs": [],
   "source": [
    "# With the first line, we're creating a new DataFrame from the HTML table. The Pandas function read_html() \n",
    "# specifically searches for and returns a list of tables found in the HTML. By specifying an index of 0, we're \n",
    "# telling Pandas to pull only the first table it encounters, or the first item in the list. Then, it turns the table \n",
    "# into a DataFrame.\n",
    "# in the second line, we assign columns to the new DataFrame for additional clarity.\n",
    "# finally, by using the .set_index() function, we're turning the Description column into the DataFrame's index. \n",
    "# inplace=True means that the updated index will remain in place, without having to reassign the DataFrame to a \n",
    "#new variable."
   ]
  },
  {
   "cell_type": "code",
   "execution_count": 22,
   "id": "c21ceaa5",
   "metadata": {},
   "outputs": [
    {
     "data": {
      "text/plain": [
       "'<table border=\"1\" class=\"dataframe\">\\n  <thead>\\n    <tr style=\"text-align: right;\">\\n      <th></th>\\n      <th>Mars</th>\\n      <th>Earth</th>\\n    </tr>\\n    <tr>\\n      <th>description</th>\\n      <th></th>\\n      <th></th>\\n    </tr>\\n  </thead>\\n  <tbody>\\n    <tr>\\n      <th>Mars - Earth Comparison</th>\\n      <td>Mars</td>\\n      <td>Earth</td>\\n    </tr>\\n    <tr>\\n      <th>Diameter:</th>\\n      <td>6,779 km</td>\\n      <td>12,742 km</td>\\n    </tr>\\n    <tr>\\n      <th>Mass:</th>\\n      <td>6.39 × 10^23 kg</td>\\n      <td>5.97 × 10^24 kg</td>\\n    </tr>\\n    <tr>\\n      <th>Moons:</th>\\n      <td>2</td>\\n      <td>1</td>\\n    </tr>\\n    <tr>\\n      <th>Distance from Sun:</th>\\n      <td>227,943,824 km</td>\\n      <td>149,598,262 km</td>\\n    </tr>\\n    <tr>\\n      <th>Length of Year:</th>\\n      <td>687 Earth days</td>\\n      <td>365.24 days</td>\\n    </tr>\\n    <tr>\\n      <th>Temperature:</th>\\n      <td>-87 to -5 °C</td>\\n      <td>-88 to 58°C</td>\\n    </tr>\\n  </tbody>\\n</table>'"
      ]
     },
     "execution_count": 22,
     "metadata": {},
     "output_type": "execute_result"
    }
   ],
   "source": [
    "# need to convert the dataframe back to html in order to use it in our webpage\n",
    "df.to_html()"
   ]
  },
  {
   "cell_type": "code",
   "execution_count": 23,
   "id": "ca139380",
   "metadata": {},
   "outputs": [],
   "source": [
    "# need to turn off the scraping code when we're done\n",
    "browser.quit()"
   ]
  },
  {
   "cell_type": "code",
   "execution_count": null,
   "id": "5e9637e9",
   "metadata": {},
   "outputs": [],
   "source": []
  }
 ],
 "metadata": {
  "kernelspec": {
   "display_name": "PythonData",
   "language": "python",
   "name": "pythondata"
  },
  "language_info": {
   "codemirror_mode": {
    "name": "ipython",
    "version": 3
   },
   "file_extension": ".py",
   "mimetype": "text/x-python",
   "name": "python",
   "nbconvert_exporter": "python",
   "pygments_lexer": "ipython3",
   "version": "3.7.13"
  }
 },
 "nbformat": 4,
 "nbformat_minor": 5
}
